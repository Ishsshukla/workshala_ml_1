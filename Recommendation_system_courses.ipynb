{
 "cells": [
  {
   "cell_type": "code",
   "execution_count": 1,
   "metadata": {},
   "outputs": [],
   "source": [
    "import numpy as np \n",
    "import pandas as pd \n",
    "import matplotlib.pyplot as plt\n",
    "import seaborn as sns"
   ]
  },
  {
   "cell_type": "code",
   "execution_count": 2,
   "metadata": {},
   "outputs": [
    {
     "data": {
      "text/plain": [
       "(267, 11)"
      ]
     },
     "execution_count": 2,
     "metadata": {},
     "output_type": "execute_result"
    }
   ],
   "source": [
    "df=pd.read_csv(\"all_courses.csv\")\n",
    "df.shape\n"
   ]
  },
  {
   "cell_type": "code",
   "execution_count": 3,
   "metadata": {},
   "outputs": [
    {
     "data": {
      "text/html": [
       "<div>\n",
       "<style scoped>\n",
       "    .dataframe tbody tr th:only-of-type {\n",
       "        vertical-align: middle;\n",
       "    }\n",
       "\n",
       "    .dataframe tbody tr th {\n",
       "        vertical-align: top;\n",
       "    }\n",
       "\n",
       "    .dataframe thead th {\n",
       "        text-align: right;\n",
       "    }\n",
       "</style>\n",
       "<table border=\"1\" class=\"dataframe\">\n",
       "  <thead>\n",
       "    <tr style=\"text-align: right;\">\n",
       "      <th></th>\n",
       "      <th>Title</th>\n",
       "      <th>Type</th>\n",
       "      <th>Description</th>\n",
       "      <th>Level</th>\n",
       "      <th>Duration</th>\n",
       "      <th>Rating</th>\n",
       "      <th>Review Count</th>\n",
       "      <th>Skills Covered</th>\n",
       "      <th>Prerequisites</th>\n",
       "      <th>Affiliates</th>\n",
       "      <th>URL</th>\n",
       "    </tr>\n",
       "  </thead>\n",
       "  <tbody>\n",
       "    <tr>\n",
       "      <th>0</th>\n",
       "      <td>Data Engineering with AWS</td>\n",
       "      <td>nanodegree</td>\n",
       "      <td>Learn to design data models, build data wareho...</td>\n",
       "      <td>intermediate</td>\n",
       "      <td>4 Months</td>\n",
       "      <td>4.6</td>\n",
       "      <td>1802.0</td>\n",
       "      <td>AWS Glue,  Amazon S3,  AWS Data Warehouse,  Re...</td>\n",
       "      <td>Intermediate Python, intermediate SQL &amp; comman...</td>\n",
       "      <td>NaN</td>\n",
       "      <td>https://www.udacity.com/course/data-engineer-n...</td>\n",
       "    </tr>\n",
       "    <tr>\n",
       "      <th>1</th>\n",
       "      <td>Product Manager</td>\n",
       "      <td>nanodegree</td>\n",
       "      <td>Envision and execute the development of indust...</td>\n",
       "      <td>beginner</td>\n",
       "      <td>4 Months</td>\n",
       "      <td>4.7</td>\n",
       "      <td>864.0</td>\n",
       "      <td>Product Strategy, Product Design, Product Deve...</td>\n",
       "      <td>No Experience Required</td>\n",
       "      <td>NaN</td>\n",
       "      <td>https://www.udacity.com/course/product-manager...</td>\n",
       "    </tr>\n",
       "    <tr>\n",
       "      <th>2</th>\n",
       "      <td>C++</td>\n",
       "      <td>nanodegree</td>\n",
       "      <td>Get hands-on experience building five real-wor...</td>\n",
       "      <td>intermediate</td>\n",
       "      <td>4 Months</td>\n",
       "      <td>4.5</td>\n",
       "      <td>1126.0</td>\n",
       "      <td>Data Structures &amp; Algorithms, Memory Managemen...</td>\n",
       "      <td>Intermediate Programming</td>\n",
       "      <td>NaN</td>\n",
       "      <td>https://www.udacity.com/course/c-plus-plus-nan...</td>\n",
       "    </tr>\n",
       "    <tr>\n",
       "      <th>3</th>\n",
       "      <td>Business Analytics</td>\n",
       "      <td>nanodegree</td>\n",
       "      <td>Gain foundational data skills like analyzing d...</td>\n",
       "      <td>beginner</td>\n",
       "      <td>3 Months</td>\n",
       "      <td>4.8</td>\n",
       "      <td>2649.0</td>\n",
       "      <td>Excel &amp; Spreadsheets, SQL, Data Visualization,...</td>\n",
       "      <td>NaN</td>\n",
       "      <td>Mode</td>\n",
       "      <td>https://www.udacity.com/course/business-analyt...</td>\n",
       "    </tr>\n",
       "    <tr>\n",
       "      <th>4</th>\n",
       "      <td>Data Scientist</td>\n",
       "      <td>nanodegree</td>\n",
       "      <td>Build effective machine learning models, run d...</td>\n",
       "      <td>advanced</td>\n",
       "      <td>4 Months</td>\n",
       "      <td>4.7</td>\n",
       "      <td>1212.0</td>\n",
       "      <td>Machine Learning, Deep Learning, Software Engi...</td>\n",
       "      <td>Python, SQL &amp; Statistics</td>\n",
       "      <td>Bertelsmann, Figure Eight, IBM Watson, Insight...</td>\n",
       "      <td>https://www.udacity.com/course/data-scientist-...</td>\n",
       "    </tr>\n",
       "  </tbody>\n",
       "</table>\n",
       "</div>"
      ],
      "text/plain": [
       "                       Title        Type  \\\n",
       "0  Data Engineering with AWS  nanodegree   \n",
       "1            Product Manager  nanodegree   \n",
       "2                        C++  nanodegree   \n",
       "3         Business Analytics  nanodegree   \n",
       "4             Data Scientist  nanodegree   \n",
       "\n",
       "                                         Description         Level  Duration  \\\n",
       "0  Learn to design data models, build data wareho...  intermediate  4 Months   \n",
       "1  Envision and execute the development of indust...      beginner  4 Months   \n",
       "2  Get hands-on experience building five real-wor...  intermediate  4 Months   \n",
       "3  Gain foundational data skills like analyzing d...      beginner  3 Months   \n",
       "4  Build effective machine learning models, run d...      advanced  4 Months   \n",
       "\n",
       "   Rating  Review Count                                     Skills Covered  \\\n",
       "0     4.6        1802.0  AWS Glue,  Amazon S3,  AWS Data Warehouse,  Re...   \n",
       "1     4.7         864.0  Product Strategy, Product Design, Product Deve...   \n",
       "2     4.5        1126.0  Data Structures & Algorithms, Memory Managemen...   \n",
       "3     4.8        2649.0  Excel & Spreadsheets, SQL, Data Visualization,...   \n",
       "4     4.7        1212.0  Machine Learning, Deep Learning, Software Engi...   \n",
       "\n",
       "                                       Prerequisites  \\\n",
       "0  Intermediate Python, intermediate SQL & comman...   \n",
       "1                             No Experience Required   \n",
       "2                           Intermediate Programming   \n",
       "3                                                NaN   \n",
       "4                           Python, SQL & Statistics   \n",
       "\n",
       "                                          Affiliates  \\\n",
       "0                                                NaN   \n",
       "1                                                NaN   \n",
       "2                                                NaN   \n",
       "3                                               Mode   \n",
       "4  Bertelsmann, Figure Eight, IBM Watson, Insight...   \n",
       "\n",
       "                                                 URL  \n",
       "0  https://www.udacity.com/course/data-engineer-n...  \n",
       "1  https://www.udacity.com/course/product-manager...  \n",
       "2  https://www.udacity.com/course/c-plus-plus-nan...  \n",
       "3  https://www.udacity.com/course/business-analyt...  \n",
       "4  https://www.udacity.com/course/data-scientist-...  "
      ]
     },
     "execution_count": 3,
     "metadata": {},
     "output_type": "execute_result"
    }
   ],
   "source": [
    "df.head(5)\n"
   ]
  },
  {
   "cell_type": "code",
   "execution_count": 4,
   "metadata": {},
   "outputs": [
    {
     "data": {
      "text/html": [
       "<div>\n",
       "<style scoped>\n",
       "    .dataframe tbody tr th:only-of-type {\n",
       "        vertical-align: middle;\n",
       "    }\n",
       "\n",
       "    .dataframe tbody tr th {\n",
       "        vertical-align: top;\n",
       "    }\n",
       "\n",
       "    .dataframe thead th {\n",
       "        text-align: right;\n",
       "    }\n",
       "</style>\n",
       "<table border=\"1\" class=\"dataframe\">\n",
       "  <thead>\n",
       "    <tr style=\"text-align: right;\">\n",
       "      <th></th>\n",
       "      <th>Rating</th>\n",
       "      <th>Review Count</th>\n",
       "    </tr>\n",
       "  </thead>\n",
       "  <tbody>\n",
       "    <tr>\n",
       "      <th>count</th>\n",
       "      <td>62.000000</td>\n",
       "      <td>62.000000</td>\n",
       "    </tr>\n",
       "    <tr>\n",
       "      <th>mean</th>\n",
       "      <td>4.595161</td>\n",
       "      <td>714.887097</td>\n",
       "    </tr>\n",
       "    <tr>\n",
       "      <th>std</th>\n",
       "      <td>0.123378</td>\n",
       "      <td>856.714006</td>\n",
       "    </tr>\n",
       "    <tr>\n",
       "      <th>min</th>\n",
       "      <td>4.300000</td>\n",
       "      <td>50.000000</td>\n",
       "    </tr>\n",
       "    <tr>\n",
       "      <th>25%</th>\n",
       "      <td>4.500000</td>\n",
       "      <td>151.000000</td>\n",
       "    </tr>\n",
       "    <tr>\n",
       "      <th>50%</th>\n",
       "      <td>4.600000</td>\n",
       "      <td>359.000000</td>\n",
       "    </tr>\n",
       "    <tr>\n",
       "      <th>75%</th>\n",
       "      <td>4.700000</td>\n",
       "      <td>849.000000</td>\n",
       "    </tr>\n",
       "    <tr>\n",
       "      <th>max</th>\n",
       "      <td>4.800000</td>\n",
       "      <td>3865.000000</td>\n",
       "    </tr>\n",
       "  </tbody>\n",
       "</table>\n",
       "</div>"
      ],
      "text/plain": [
       "          Rating  Review Count\n",
       "count  62.000000     62.000000\n",
       "mean    4.595161    714.887097\n",
       "std     0.123378    856.714006\n",
       "min     4.300000     50.000000\n",
       "25%     4.500000    151.000000\n",
       "50%     4.600000    359.000000\n",
       "75%     4.700000    849.000000\n",
       "max     4.800000   3865.000000"
      ]
     },
     "execution_count": 4,
     "metadata": {},
     "output_type": "execute_result"
    }
   ],
   "source": [
    "df.describe()"
   ]
  },
  {
   "cell_type": "code",
   "execution_count": 5,
   "metadata": {},
   "outputs": [
    {
     "name": "stdout",
     "output_type": "stream",
     "text": [
      "Index(['Title', 'Type', 'Description', 'Level', 'Duration', 'Rating',\n",
      "       'Review Count', 'Skills Covered', 'Prerequisites', 'Affiliates', 'URL'],\n",
      "      dtype='object')\n"
     ]
    }
   ],
   "source": [
    "# List the column names in your DataFrame\n",
    "column_names = df.columns\n",
    "print(column_names)\n"
   ]
  },
  {
   "cell_type": "code",
   "execution_count": 6,
   "metadata": {},
   "outputs": [
    {
     "name": "stdout",
     "output_type": "stream",
     "text": [
      "<class 'pandas.core.frame.DataFrame'>\n",
      "RangeIndex: 267 entries, 0 to 266\n",
      "Data columns (total 11 columns):\n",
      " #   Column          Non-Null Count  Dtype  \n",
      "---  ------          --------------  -----  \n",
      " 0   Title           267 non-null    object \n",
      " 1   Type            267 non-null    object \n",
      " 2   Description     261 non-null    object \n",
      " 3   Level           265 non-null    object \n",
      " 4   Duration        263 non-null    object \n",
      " 5   Rating          62 non-null     float64\n",
      " 6   Review Count    62 non-null     float64\n",
      " 7   Skills Covered  267 non-null    object \n",
      " 8   Prerequisites   77 non-null     object \n",
      " 9   Affiliates      138 non-null    object \n",
      " 10  URL             267 non-null    object \n",
      "dtypes: float64(2), object(9)\n",
      "memory usage: 23.1+ KB\n"
     ]
    }
   ],
   "source": [
    "df.info()"
   ]
  },
  {
   "cell_type": "code",
   "execution_count": 7,
   "metadata": {},
   "outputs": [
    {
     "data": {
      "text/plain": [
       "Title               0\n",
       "Type                0\n",
       "Description         6\n",
       "Level               2\n",
       "Duration            4\n",
       "Rating            205\n",
       "Review Count      205\n",
       "Skills Covered      0\n",
       "Prerequisites     190\n",
       "Affiliates        129\n",
       "URL                 0\n",
       "dtype: int64"
      ]
     },
     "execution_count": 7,
     "metadata": {},
     "output_type": "execute_result"
    }
   ],
   "source": [
    "df.isnull().sum()"
   ]
  },
  {
   "cell_type": "markdown",
   "metadata": {},
   "source": [
    "## Data Cleaning"
   ]
  },
  {
   "cell_type": "code",
   "execution_count": 8,
   "metadata": {},
   "outputs": [],
   "source": [
    "# Remove duplicate rows\n",
    "df = df.drop_duplicates()\n"
   ]
  },
  {
   "cell_type": "code",
   "execution_count": 9,
   "metadata": {},
   "outputs": [],
   "source": [
    "df['Description'].fillna('Not provided', inplace=True)\n",
    "df.loc[df['Prerequisites'] == True, 'Prerequisites'].fillna('None', inplace=True)\n"
   ]
  },
  {
   "cell_type": "code",
   "execution_count": 10,
   "metadata": {},
   "outputs": [],
   "source": [
    "\n",
    "df['Level'].fillna(df['Level'].mode()[0], inplace=True)\n",
    "df['Skills Covered'].fillna(df['Skills Covered'].mode()[0], inplace=True)\n",
    "\n",
    "\n"
   ]
  },
  {
   "cell_type": "code",
   "execution_count": 11,
   "metadata": {},
   "outputs": [
    {
     "name": "stdout",
     "output_type": "stream",
     "text": [
      "(267, 11)\n"
     ]
    }
   ],
   "source": [
    "print(df.shape)\n"
   ]
  },
  {
   "cell_type": "code",
   "execution_count": 12,
   "metadata": {},
   "outputs": [],
   "source": [
    "\n",
    "df['Duration'] = pd.to_numeric(df['Duration'], errors='coerce')\n",
    "\n",
    "df['Duration'].fillna(df['Duration'].mean(), inplace=True)\n",
    "\n"
   ]
  },
  {
   "cell_type": "code",
   "execution_count": 13,
   "metadata": {},
   "outputs": [],
   "source": [
    "\n",
    "df['Review Count'].fillna(df['Review Count'].median(), inplace=True)\n",
    "df['Rating'].fillna(df['Rating'].mean(), inplace=True)\n"
   ]
  },
  {
   "cell_type": "code",
   "execution_count": 14,
   "metadata": {},
   "outputs": [],
   "source": [
    "from sklearn.model_selection import train_test_split\n",
    "\n",
    "train_data, test_data = train_test_split(df, test_size=0.2, random_state=42)\n"
   ]
  },
  {
   "cell_type": "markdown",
   "metadata": {},
   "source": [
    "##vectorization"
   ]
  },
  {
   "cell_type": "code",
   "execution_count": 15,
   "metadata": {},
   "outputs": [],
   "source": [
    "from sklearn.feature_extraction.text import TfidfVectorizer\n",
    "import numpy as np\n",
    "\n",
    "# a TF-IDF vectorizer\n",
    "tfidf_vectorizer = TfidfVectorizer()\n",
    "\n",
    "# Fit and transform the course descriptions\n",
    "tfidf_matrix = tfidf_vectorizer.fit_transform(df['Description'])\n",
    "\n",
    "# Converting TF-IDF matrix to a DataFrame\n",
    "tfidf_df = pd.DataFrame(data=tfidf_matrix.toarray(), columns=tfidf_vectorizer.get_feature_names_out())\n"
   ]
  },
  {
   "cell_type": "code",
   "execution_count": 16,
   "metadata": {},
   "outputs": [
    {
     "name": "stdout",
     "output_type": "stream",
     "text": [
      "Training set shape: (213, 11)\n",
      "Testing set shape: (54, 11)\n"
     ]
    }
   ],
   "source": [
    "import random\n",
    "\n",
    "def split_data(df, train_ratio=0.8):\n",
    "\n",
    "  # Shuffle df\n",
    "  df = df.sample(frac=1)\n",
    "\n",
    "  training_set = df[:int(len(df) * train_ratio)]\n",
    "  testing_set = df[int(len(df) * train_ratio):]\n",
    "\n",
    "  return training_set, testing_set\n",
    "\n",
    "\n",
    "train_set, test_set = split_data(df)\n",
    "\n",
    "print('Training set shape:', train_set.shape)\n",
    "print('Testing set shape:', test_set.shape)\n"
   ]
  }
 ],
 "metadata": {
  "kernelspec": {
   "display_name": "Python 3",
   "language": "python",
   "name": "python3"
  },
  "language_info": {
   "codemirror_mode": {
    "name": "ipython",
    "version": 3
   },
   "file_extension": ".py",
   "mimetype": "text/x-python",
   "name": "python",
   "nbconvert_exporter": "python",
   "pygments_lexer": "ipython3",
   "version": "3.11.6"
  }
 },
 "nbformat": 4,
 "nbformat_minor": 2
}
